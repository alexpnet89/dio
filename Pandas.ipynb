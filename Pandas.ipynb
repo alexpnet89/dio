{
  "nbformat": 4,
  "nbformat_minor": 0,
  "metadata": {
    "colab": {
      "provenance": [],
      "collapsed_sections": [
        "KumQQj919LgI",
        "EGkXhHhR_WZG",
        "zVd3eQbdAQZb"
      ],
      "mount_file_id": "1UBMIFGdivqUBrAB-R48jZR44U8--NEL_",
      "authorship_tag": "ABX9TyOKq5UyXPXXxyJkQB1mDOTU"
    },
    "kernelspec": {
      "name": "python3",
      "display_name": "Python 3"
    },
    "language_info": {
      "name": "python"
    }
  },
  "cells": [
    {
      "cell_type": "markdown",
      "source": [
        "# Trabalhando com planilhas Excel\n"
      ],
      "metadata": {
        "id": "KumQQj919LgI"
      }
    },
    {
      "cell_type": "code",
      "source": [
        "import pandas as pd"
      ],
      "metadata": {
        "id": "NbNObVfz9SjL"
      },
      "execution_count": null,
      "outputs": []
    },
    {
      "cell_type": "code",
      "source": [
        "# Leitura dos arquivos\n",
        "df1 = pd.read_excel('/content/Aracaju.xlsx')\n",
        "df2 = pd.read_excel('/content/Fortaleza.xlsx')\n",
        "df3 = pd.read_excel('/content/Natal.xlsx')\n",
        "df4 = pd.read_excel('/content/Recife.xlsx')\n",
        "df5 = pd.read_excel('/content/Salvador.xlsx')"
      ],
      "metadata": {
        "id": "_0845Li09YVQ"
      },
      "execution_count": null,
      "outputs": []
    },
    {
      "cell_type": "code",
      "source": [
        "# Juntando todos os arquivos\n",
        "df = pd.concat([df1, df2, df3, df4, df5])"
      ],
      "metadata": {
        "id": "9jsEfEZb-lFo"
      },
      "execution_count": null,
      "outputs": []
    },
    {
      "cell_type": "code",
      "source": [
        "df.head()"
      ],
      "metadata": {
        "id": "O26CaGo3-tNl"
      },
      "execution_count": null,
      "outputs": []
    },
    {
      "cell_type": "code",
      "source": [
        "df.tail()"
      ],
      "metadata": {
        "id": "CoZI8cyu-u65"
      },
      "execution_count": null,
      "outputs": []
    },
    {
      "cell_type": "code",
      "source": [
        "# Verificando tipo de dados\n",
        "df.dtypes"
      ],
      "metadata": {
        "id": "Aid0XC-h-0s4"
      },
      "execution_count": null,
      "outputs": []
    },
    {
      "cell_type": "code",
      "source": [
        "# Alterando o tipo de dado da coluna LojaID\n",
        "df['LojaID'] = df['LojaID'].astype('object')"
      ],
      "metadata": {
        "id": "WNvhCt_Z-_OP"
      },
      "execution_count": null,
      "outputs": []
    },
    {
      "cell_type": "code",
      "source": [
        "df.sample(5)"
      ],
      "metadata": {
        "id": "9wPje7Ir-8me"
      },
      "execution_count": null,
      "outputs": []
    },
    {
      "cell_type": "markdown",
      "source": [
        "# Tratando valores faltantes"
      ],
      "metadata": {
        "id": "EGkXhHhR_WZG"
      }
    },
    {
      "cell_type": "code",
      "source": [
        "# Consultando linhas com valores faltantes\n",
        "df.isnull().sum()"
      ],
      "metadata": {
        "id": "Ckgs05FV_aVE"
      },
      "execution_count": null,
      "outputs": []
    },
    {
      "cell_type": "code",
      "source": [
        "# Substituindo os valores por zero\n",
        "df['Vendas'].fillna(0, inplace=True)"
      ],
      "metadata": {
        "id": "xpOaSA_A_xsu"
      },
      "execution_count": null,
      "outputs": []
    },
    {
      "cell_type": "code",
      "source": [
        "# Apagando as linhas com valores nulos\n",
        "df.dropna(inplace=True)"
      ],
      "metadata": {
        "id": "3mFBEnR7_5Qo"
      },
      "execution_count": null,
      "outputs": []
    },
    {
      "cell_type": "code",
      "source": [
        "# Apagando as linhas com valores nulos com base apenas em 1 coluna\n",
        "df.dropna(subset=['Vendas'], inplace=True)"
      ],
      "metadata": {
        "id": "IfyqjkDbACAf"
      },
      "execution_count": null,
      "outputs": []
    },
    {
      "cell_type": "code",
      "source": [
        "# Apagando as linhas com valores faltantes em todas as colunas\n",
        "df.dropna(how='all', inplace=True)"
      ],
      "metadata": {
        "id": "VwzhXJyQAJzp"
      },
      "execution_count": null,
      "outputs": []
    },
    {
      "cell_type": "markdown",
      "source": [
        "# Criando colunas novas"
      ],
      "metadata": {
        "id": "zVd3eQbdAQZb"
      }
    },
    {
      "cell_type": "code",
      "source": [
        "# Criando a coluna receita\n",
        "df['Receita'] = df['Vendas'].mul(df['Qtde'])"
      ],
      "metadata": {
        "id": "JWkGV0QiARnH"
      },
      "execution_count": null,
      "outputs": []
    },
    {
      "cell_type": "code",
      "source": [
        "df['Receita/Vendas'] = df['Receita'] / df['Vendas']"
      ],
      "metadata": {
        "id": "07gTN0EAAfkt"
      },
      "execution_count": null,
      "outputs": []
    },
    {
      "cell_type": "code",
      "source": [
        "# Retornando a maior receita\n",
        "df['Receita'].max()"
      ],
      "metadata": {
        "id": "GJLB8aMUAr_a"
      },
      "execution_count": null,
      "outputs": []
    },
    {
      "cell_type": "code",
      "source": [
        "# Retornando a menor receita\n",
        "df['Receita'].min()"
      ],
      "metadata": {
        "id": "vyUbrse7AyOC"
      },
      "execution_count": null,
      "outputs": []
    },
    {
      "cell_type": "code",
      "source": [
        "# nlargest\n",
        "df.nlargest(3, 'Receita')"
      ],
      "metadata": {
        "id": "_oevdO5nA3d2"
      },
      "execution_count": null,
      "outputs": []
    },
    {
      "cell_type": "code",
      "source": [
        "# nsmallest\n",
        "df.nsmallest(3, 'Receita')"
      ],
      "metadata": {
        "id": "lOJ-AigWA8GN"
      },
      "execution_count": null,
      "outputs": []
    },
    {
      "cell_type": "code",
      "source": [
        "# Agrupamento por cidade\n",
        "df.groupby('Cidade')['Receita'].sum()"
      ],
      "metadata": {
        "id": "Qc55va5yBDka"
      },
      "execution_count": null,
      "outputs": []
    },
    {
      "cell_type": "code",
      "source": [
        "# Ordenando o conjunto de dados\n",
        "df.sort_values('Receita', ascending=False).head(10)"
      ],
      "metadata": {
        "id": "fMITbz7HBI9q"
      },
      "execution_count": null,
      "outputs": []
    },
    {
      "cell_type": "markdown",
      "source": [
        "# Trabalhando com datas"
      ],
      "metadata": {
        "id": "nLGlXWTUBX7P"
      }
    },
    {
      "cell_type": "code",
      "source": [
        "# Transformando a coluna de data em tipo inteiro\n",
        "df['Data'] = df['Data'].view('int64')"
      ],
      "metadata": {
        "id": "23XFBdUpBaEK"
      },
      "execution_count": null,
      "outputs": []
    },
    {
      "cell_type": "code",
      "source": [
        "# Verificando o tipo de dado de cada coluna\n",
        "df.dtypes"
      ],
      "metadata": {
        "id": "REuMH9aHBpVo"
      },
      "execution_count": null,
      "outputs": []
    },
    {
      "cell_type": "code",
      "source": [
        "# Transformando coluna de data em data\n",
        "df['Data'] = pd.to_datetime(df['Data'])"
      ],
      "metadata": {
        "id": "WYcbObQ9Buic"
      },
      "execution_count": null,
      "outputs": []
    },
    {
      "cell_type": "code",
      "source": [
        "df.dtypes"
      ],
      "metadata": {
        "id": "uRCwlf3xB0n9"
      },
      "execution_count": null,
      "outputs": []
    },
    {
      "cell_type": "code",
      "source": [
        "# Agrupamento por ano\n",
        "df.groupby(df['Data'].dt.year)['Receita'].sum()"
      ],
      "metadata": {
        "id": "WaeAqbFeB3V5"
      },
      "execution_count": null,
      "outputs": []
    },
    {
      "cell_type": "code",
      "source": [
        "# Criando uma nova coluna com o ano\n",
        "df['Ano_Venda'] = df['Data'].dt.year"
      ],
      "metadata": {
        "id": "OEqQmfLoCApF"
      },
      "execution_count": null,
      "outputs": []
    },
    {
      "cell_type": "code",
      "source": [
        "# Extraindo o mês e o dia\n",
        "df['mes_venda'], df['dia_venda'] = (df['Data'].dt.month, df['Data'].dt.day)"
      ],
      "metadata": {
        "id": "gqBVZGVcCK5z"
      },
      "execution_count": null,
      "outputs": []
    },
    {
      "cell_type": "code",
      "source": [
        "# Retornando a data mais antiga\n",
        "df['Data'].min()"
      ],
      "metadata": {
        "id": "psxbcpYkCUa_"
      },
      "execution_count": null,
      "outputs": []
    },
    {
      "cell_type": "code",
      "source": [
        "# Calculando a diferença entre datas\n",
        "df['diferenca_dias'] = df['Data'] - df['Data'].min()"
      ],
      "metadata": {
        "id": "4U_ZOo13CZcI"
      },
      "execution_count": null,
      "outputs": []
    },
    {
      "cell_type": "code",
      "source": [
        "# Criando a coluna de trimestre\n",
        "df['semestre_venda'] = df['Data'].dt.quarter"
      ],
      "metadata": {
        "id": "46EZEz61Cj96"
      },
      "execution_count": null,
      "outputs": []
    },
    {
      "cell_type": "code",
      "source": [
        "# Filtrando as vendas de 2019 do mês de março\n",
        "vendas_marco_19 = df.loc[(df['Data'].dt.year == 2019) & (df['Data'].dt.month == 3)]"
      ],
      "metadata": {
        "id": "tgA2EZS3CucD"
      },
      "execution_count": null,
      "outputs": []
    },
    {
      "cell_type": "code",
      "source": [
        "vendas_marco_19.head()"
      ],
      "metadata": {
        "colab": {
          "base_uri": "https://localhost:8080/",
          "height": 206
        },
        "id": "pj7cRm1MC8hK",
        "outputId": "90c161c0-93d3-4ae2-b14c-fede3f7e2111"
      },
      "execution_count": null,
      "outputs": [
        {
          "output_type": "execute_result",
          "data": {
            "text/plain": [
              "        Cidade       Data  Vendas LojaID  Qtde  Receita  Receita/Vendas  \\\n",
              "108  Fortaleza 2019-03-02  152.89    981     4   611.56             4.0   \n",
              "109  Fortaleza 2019-03-02   18.90    982     6   113.40             6.0   \n",
              "110  Fortaleza 2019-03-02   51.98    983     6   311.88             6.0   \n",
              "111  Fortaleza 2019-03-02    8.00    981     3    24.00             3.0   \n",
              "112  Fortaleza 2019-03-02  133.59    982     1   133.59             1.0   \n",
              "\n",
              "     Ano_Venda  mes_venda  dia_venda diferenca_dias  semestre_venda  \n",
              "108       2019          3          2       425 days               1  \n",
              "109       2019          3          2       425 days               1  \n",
              "110       2019          3          2       425 days               1  \n",
              "111       2019          3          2       425 days               1  \n",
              "112       2019          3          2       425 days               1  "
            ],
            "text/html": [
              "\n",
              "  <div id=\"df-d173a380-e652-4fb8-86d3-9eca97991114\">\n",
              "    <div class=\"colab-df-container\">\n",
              "      <div>\n",
              "<style scoped>\n",
              "    .dataframe tbody tr th:only-of-type {\n",
              "        vertical-align: middle;\n",
              "    }\n",
              "\n",
              "    .dataframe tbody tr th {\n",
              "        vertical-align: top;\n",
              "    }\n",
              "\n",
              "    .dataframe thead th {\n",
              "        text-align: right;\n",
              "    }\n",
              "</style>\n",
              "<table border=\"1\" class=\"dataframe\">\n",
              "  <thead>\n",
              "    <tr style=\"text-align: right;\">\n",
              "      <th></th>\n",
              "      <th>Cidade</th>\n",
              "      <th>Data</th>\n",
              "      <th>Vendas</th>\n",
              "      <th>LojaID</th>\n",
              "      <th>Qtde</th>\n",
              "      <th>Receita</th>\n",
              "      <th>Receita/Vendas</th>\n",
              "      <th>Ano_Venda</th>\n",
              "      <th>mes_venda</th>\n",
              "      <th>dia_venda</th>\n",
              "      <th>diferenca_dias</th>\n",
              "      <th>semestre_venda</th>\n",
              "    </tr>\n",
              "  </thead>\n",
              "  <tbody>\n",
              "    <tr>\n",
              "      <th>108</th>\n",
              "      <td>Fortaleza</td>\n",
              "      <td>2019-03-02</td>\n",
              "      <td>152.89</td>\n",
              "      <td>981</td>\n",
              "      <td>4</td>\n",
              "      <td>611.56</td>\n",
              "      <td>4.0</td>\n",
              "      <td>2019</td>\n",
              "      <td>3</td>\n",
              "      <td>2</td>\n",
              "      <td>425 days</td>\n",
              "      <td>1</td>\n",
              "    </tr>\n",
              "    <tr>\n",
              "      <th>109</th>\n",
              "      <td>Fortaleza</td>\n",
              "      <td>2019-03-02</td>\n",
              "      <td>18.90</td>\n",
              "      <td>982</td>\n",
              "      <td>6</td>\n",
              "      <td>113.40</td>\n",
              "      <td>6.0</td>\n",
              "      <td>2019</td>\n",
              "      <td>3</td>\n",
              "      <td>2</td>\n",
              "      <td>425 days</td>\n",
              "      <td>1</td>\n",
              "    </tr>\n",
              "    <tr>\n",
              "      <th>110</th>\n",
              "      <td>Fortaleza</td>\n",
              "      <td>2019-03-02</td>\n",
              "      <td>51.98</td>\n",
              "      <td>983</td>\n",
              "      <td>6</td>\n",
              "      <td>311.88</td>\n",
              "      <td>6.0</td>\n",
              "      <td>2019</td>\n",
              "      <td>3</td>\n",
              "      <td>2</td>\n",
              "      <td>425 days</td>\n",
              "      <td>1</td>\n",
              "    </tr>\n",
              "    <tr>\n",
              "      <th>111</th>\n",
              "      <td>Fortaleza</td>\n",
              "      <td>2019-03-02</td>\n",
              "      <td>8.00</td>\n",
              "      <td>981</td>\n",
              "      <td>3</td>\n",
              "      <td>24.00</td>\n",
              "      <td>3.0</td>\n",
              "      <td>2019</td>\n",
              "      <td>3</td>\n",
              "      <td>2</td>\n",
              "      <td>425 days</td>\n",
              "      <td>1</td>\n",
              "    </tr>\n",
              "    <tr>\n",
              "      <th>112</th>\n",
              "      <td>Fortaleza</td>\n",
              "      <td>2019-03-02</td>\n",
              "      <td>133.59</td>\n",
              "      <td>982</td>\n",
              "      <td>1</td>\n",
              "      <td>133.59</td>\n",
              "      <td>1.0</td>\n",
              "      <td>2019</td>\n",
              "      <td>3</td>\n",
              "      <td>2</td>\n",
              "      <td>425 days</td>\n",
              "      <td>1</td>\n",
              "    </tr>\n",
              "  </tbody>\n",
              "</table>\n",
              "</div>\n",
              "      <button class=\"colab-df-convert\" onclick=\"convertToInteractive('df-d173a380-e652-4fb8-86d3-9eca97991114')\"\n",
              "              title=\"Convert this dataframe to an interactive table.\"\n",
              "              style=\"display:none;\">\n",
              "        \n",
              "  <svg xmlns=\"http://www.w3.org/2000/svg\" height=\"24px\"viewBox=\"0 0 24 24\"\n",
              "       width=\"24px\">\n",
              "    <path d=\"M0 0h24v24H0V0z\" fill=\"none\"/>\n",
              "    <path d=\"M18.56 5.44l.94 2.06.94-2.06 2.06-.94-2.06-.94-.94-2.06-.94 2.06-2.06.94zm-11 1L8.5 8.5l.94-2.06 2.06-.94-2.06-.94L8.5 2.5l-.94 2.06-2.06.94zm10 10l.94 2.06.94-2.06 2.06-.94-2.06-.94-.94-2.06-.94 2.06-2.06.94z\"/><path d=\"M17.41 7.96l-1.37-1.37c-.4-.4-.92-.59-1.43-.59-.52 0-1.04.2-1.43.59L10.3 9.45l-7.72 7.72c-.78.78-.78 2.05 0 2.83L4 21.41c.39.39.9.59 1.41.59.51 0 1.02-.2 1.41-.59l7.78-7.78 2.81-2.81c.8-.78.8-2.07 0-2.86zM5.41 20L4 18.59l7.72-7.72 1.47 1.35L5.41 20z\"/>\n",
              "  </svg>\n",
              "      </button>\n",
              "      \n",
              "  <style>\n",
              "    .colab-df-container {\n",
              "      display:flex;\n",
              "      flex-wrap:wrap;\n",
              "      gap: 12px;\n",
              "    }\n",
              "\n",
              "    .colab-df-convert {\n",
              "      background-color: #E8F0FE;\n",
              "      border: none;\n",
              "      border-radius: 50%;\n",
              "      cursor: pointer;\n",
              "      display: none;\n",
              "      fill: #1967D2;\n",
              "      height: 32px;\n",
              "      padding: 0 0 0 0;\n",
              "      width: 32px;\n",
              "    }\n",
              "\n",
              "    .colab-df-convert:hover {\n",
              "      background-color: #E2EBFA;\n",
              "      box-shadow: 0px 1px 2px rgba(60, 64, 67, 0.3), 0px 1px 3px 1px rgba(60, 64, 67, 0.15);\n",
              "      fill: #174EA6;\n",
              "    }\n",
              "\n",
              "    [theme=dark] .colab-df-convert {\n",
              "      background-color: #3B4455;\n",
              "      fill: #D2E3FC;\n",
              "    }\n",
              "\n",
              "    [theme=dark] .colab-df-convert:hover {\n",
              "      background-color: #434B5C;\n",
              "      box-shadow: 0px 1px 3px 1px rgba(0, 0, 0, 0.15);\n",
              "      filter: drop-shadow(0px 1px 2px rgba(0, 0, 0, 0.3));\n",
              "      fill: #FFFFFF;\n",
              "    }\n",
              "  </style>\n",
              "\n",
              "      <script>\n",
              "        const buttonEl =\n",
              "          document.querySelector('#df-d173a380-e652-4fb8-86d3-9eca97991114 button.colab-df-convert');\n",
              "        buttonEl.style.display =\n",
              "          google.colab.kernel.accessAllowed ? 'block' : 'none';\n",
              "\n",
              "        async function convertToInteractive(key) {\n",
              "          const element = document.querySelector('#df-d173a380-e652-4fb8-86d3-9eca97991114');\n",
              "          const dataTable =\n",
              "            await google.colab.kernel.invokeFunction('convertToInteractive',\n",
              "                                                     [key], {});\n",
              "          if (!dataTable) return;\n",
              "\n",
              "          const docLinkHtml = 'Like what you see? Visit the ' +\n",
              "            '<a target=\"_blank\" href=https://colab.research.google.com/notebooks/data_table.ipynb>data table notebook</a>'\n",
              "            + ' to learn more about interactive tables.';\n",
              "          element.innerHTML = '';\n",
              "          dataTable['output_type'] = 'display_data';\n",
              "          await google.colab.output.renderOutput(dataTable, element);\n",
              "          const docLink = document.createElement('div');\n",
              "          docLink.innerHTML = docLinkHtml;\n",
              "          element.appendChild(docLink);\n",
              "        }\n",
              "      </script>\n",
              "    </div>\n",
              "  </div>\n",
              "  "
            ]
          },
          "metadata": {},
          "execution_count": 44
        }
      ]
    },
    {
      "cell_type": "markdown",
      "source": [
        "# Visualização de dados"
      ],
      "metadata": {
        "id": "inO9M2gcDKbh"
      }
    },
    {
      "cell_type": "code",
      "source": [
        "df['LojaID'].value_counts(ascending=False)"
      ],
      "metadata": {
        "colab": {
          "base_uri": "https://localhost:8080/"
        },
        "id": "6HfBuJ6CDNl9",
        "outputId": "66117780-eaae-4551-bda9-97a23d2db9a9"
      },
      "execution_count": null,
      "outputs": [
        {
          "output_type": "execute_result",
          "data": {
            "text/plain": [
              "1036    117\n",
              "1035    112\n",
              "1037    101\n",
              "1034     67\n",
              "983      65\n",
              "982      44\n",
              "1522     41\n",
              "1520     39\n",
              "980      36\n",
              "981      31\n",
              "1005     30\n",
              "1002     30\n",
              "852      29\n",
              "1523     29\n",
              "1004     28\n",
              "854      28\n",
              "853      26\n",
              "1521     21\n",
              "1003     20\n",
              "Name: LojaID, dtype: int64"
            ]
          },
          "metadata": {},
          "execution_count": 52
        }
      ]
    },
    {
      "cell_type": "code",
      "source": [
        "# Gráfico de barras\n",
        "df['LojaID'].value_counts(ascending=False).plot(kind='bar');"
      ],
      "metadata": {
        "colab": {
          "base_uri": "https://localhost:8080/",
          "height": 281
        },
        "id": "D37OUQCODf4N",
        "outputId": "ba74f6bd-e3ca-47d1-9aff-7ac76199e89c"
      },
      "execution_count": null,
      "outputs": [
        {
          "output_type": "display_data",
          "data": {
            "text/plain": [
              "<Figure size 432x288 with 1 Axes>"
            ],
            "image/png": "[encoded data removed]"
          },
          "metadata": {}
        }
      ]
    },
    {
      "cell_type": "code",
      "source": [
        "# Grafico de barras horizontais\n",
        "df['LojaID'].value_counts(ascending=True).plot(kind='barh');"
      ],
      "metadata": {
        "colab": {
          "base_uri": "https://localhost:8080/",
          "height": 265
        },
        "id": "Ua3deCpREkw6",
        "outputId": "c10f8148-7e59-4a78-9835-c415a7945414"
      },
      "execution_count": null,
      "outputs": [
        {
          "output_type": "display_data",
          "data": {
            "text/plain": [
              "<Figure size 432x288 with 1 Axes>"
            ],
            "image/png": "[encoded data removed]"
          },
          "metadata": {}
        }
      ]
    },
    {
      "cell_type": "code",
      "source": [
        "# Gráfico de pizza\n",
        "df.groupby(df['Data'].dt.year)['Receita'].sum().plot(kind='pie');"
      ],
      "metadata": {
        "colab": {
          "base_uri": "https://localhost:8080/",
          "height": 248
        },
        "id": "Z2Bftb9uEqFj",
        "outputId": "5a3972e3-5a0c-4c7d-8ea1-6767c392f511"
      },
      "execution_count": null,
      "outputs": [
        {
          "output_type": "display_data",
          "data": {
            "text/plain": [
              "<Figure size 432x288 with 1 Axes>"
            ],
            "image/png": "[encoded data removed]"
          },
          "metadata": {}
        }
      ]
    },
    {
      "cell_type": "code",
      "source": [
        "# Adicionando um título e alterando o nome dos eixos\n",
        "import matplotlib.pyplot as plt\n",
        "df['Cidade'].value_counts().plot.bar(title=\"Total vendas por Cidade\")\n",
        "plt.xlabel('Cidade')\n",
        "plt.ylabel('Total Vendas');"
      ],
      "metadata": {
        "colab": {
          "base_uri": "https://localhost:8080/",
          "height": 335
        },
        "id": "aLiG_rZvFC6b",
        "outputId": "fd6407a1-170b-4925-978a-7c5c09f3b81c"
      },
      "execution_count": null,
      "outputs": [
        {
          "output_type": "display_data",
          "data": {
            "text/plain": [
              "<Figure size 432x288 with 1 Axes>"
            ],
            "image/png": "[encoded data removed]"
          },
          "metadata": {}
        }
      ]
    },
    {
      "cell_type": "code",
      "source": [
        "# Alterando a cor\n",
        "df['Cidade'].value_counts().plot.bar(title=\"Total vendas por Cidade\", color='red')\n",
        "plt.xlabel('Cidade')\n",
        "plt.ylabel('Total Vendas');"
      ],
      "metadata": {
        "colab": {
          "base_uri": "https://localhost:8080/",
          "height": 335
        },
        "id": "Qe9jEEpCFSSB",
        "outputId": "ef44e32a-426f-435c-b45d-834f88ee66d6"
      },
      "execution_count": null,
      "outputs": [
        {
          "output_type": "display_data",
          "data": {
            "text/plain": [
              "<Figure size 432x288 with 1 Axes>"
            ],
            "image/png": "[encoded data removed]"
          },
          "metadata": {}
        }
      ]
    },
    {
      "cell_type": "code",
      "source": [
        "# Alterando o estilo\n",
        "plt.style.use('ggplot')"
      ],
      "metadata": {
        "id": "tbe84Gk3FafG"
      },
      "execution_count": null,
      "outputs": []
    },
    {
      "cell_type": "code",
      "source": [
        "from importlib import reload\n",
        "plt=reload(plt)\n",
        "\n",
        "df.groupby(df['mes_venda'])['Qtde'].sum().plot()\n",
        "plt.xlabel('Mês')\n",
        "plt.ylabel('Total Produtos Vendidos')\n",
        "plt.legend();"
      ],
      "metadata": {
        "colab": {
          "base_uri": "https://localhost:8080/",
          "height": 282
        },
        "id": "3KO2_LvkFeVk",
        "outputId": "3b095979-73e6-4782-d7ab-a098fc7f0f8a"
      },
      "execution_count": null,
      "outputs": [
        {
          "output_type": "display_data",
          "data": {
            "text/plain": [
              "<Figure size 432x288 with 1 Axes>"
            ],
            "image/png": "[encoded data removed]"
          },
          "metadata": {}
        }
      ]
    },
    {
      "cell_type": "code",
      "source": [
        "# Selecionando apenas as vendas de 2019\n",
        "df_2019 = df[df['Ano_Venda'] == 2019]"
      ],
      "metadata": {
        "id": "0xFBQvX8GZZu"
      },
      "execution_count": null,
      "outputs": []
    },
    {
      "cell_type": "code",
      "source": [
        "# Total produtos vendidos por mes\n",
        "df_2019.groupby(df_2019['mes_venda'])['Qtde'].sum().plot(marker='o')\n",
        "plt.xlabel('Mês')\n",
        "plt.ylabel('Total Produtos Vendidos')\n",
        "plt.legend();"
      ],
      "metadata": {
        "colab": {
          "base_uri": "https://localhost:8080/",
          "height": 284
        },
        "id": "BqafXRgBGlX6",
        "outputId": "fe79f148-bef5-4084-8aa3-01aa7dae0458"
      },
      "execution_count": null,
      "outputs": [
        {
          "output_type": "display_data",
          "data": {
            "text/plain": [
              "<Figure size 432x288 with 1 Axes>"
            ],
            "image/png": "[encoded data removed]"
          },
          "metadata": {}
        }
      ]
    },
    {
      "cell_type": "code",
      "source": [
        "# Histograma\n",
        "plt.hist(df['mes_venda'], color='magenta');"
      ],
      "metadata": {
        "colab": {
          "base_uri": "https://localhost:8080/",
          "height": 265
        },
        "id": "iySsecADHNoW",
        "outputId": "03ee2338-1d80-4f19-f85b-1a9c507c859f"
      },
      "execution_count": null,
      "outputs": [
        {
          "output_type": "display_data",
          "data": {
            "text/plain": [
              "<Figure size 432x288 with 1 Axes>"
            ],
            "image/png": "[encoded data removed]"
          },
          "metadata": {}
        }
      ]
    },
    {
      "cell_type": "code",
      "source": [
        "plt.scatter(x=df_2019['dia_venda'], y = df_2019['Receita']);"
      ],
      "metadata": {
        "colab": {
          "base_uri": "https://localhost:8080/",
          "height": 265
        },
        "id": "mFYwsrHbHZMq",
        "outputId": "e5d0924d-be34-4fee-ebe3-baa3f282a785"
      },
      "execution_count": null,
      "outputs": [
        {
          "output_type": "display_data",
          "data": {
            "text/plain": [
              "<Figure size 432x288 with 1 Axes>"
            ],
            "image/png": "[encoded data removed]"
          },
          "metadata": {}
        }
      ]
    },
    {
      "cell_type": "code",
      "source": [
        "# Salvando em png\n",
        "df_2019.groupby(df_2019['mes_venda'])['Qtde'].sum().plot(marker='v')\n",
        "plt.title('Quantidade de produtos vendidos x mes')\n",
        "plt.xlabel(\"Mês\")\n",
        "plt.ylabel('Total Produtos Vendidos');\n",
        "plt.legend()\n",
        "plt.savefig('grafico QTDE x MES.png');"
      ],
      "metadata": {
        "colab": {
          "base_uri": "https://localhost:8080/",
          "height": 299
        },
        "id": "oBFJGsB2Hnvr",
        "outputId": "d7c9e23b-eb1d-43dc-c6b9-733fce0012cc"
      },
      "execution_count": null,
      "outputs": [
        {
          "output_type": "display_data",
          "data": {
            "text/plain": [
              "<Figure size 432x288 with 1 Axes>"
            ],
            "image/png": "[encoded data removed]"
          },
          "metadata": {}
        }
      ]
    }
  ]
}